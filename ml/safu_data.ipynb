{
 "cells": [
  {
   "cell_type": "code",
   "execution_count": 24,
   "metadata": {},
   "outputs": [],
   "source": [
    "import pandas as pd\n",
    "import dask.dataframe as dd\n",
    "import requests\n",
    "import json"
   ]
  },
  {
   "cell_type": "code",
   "execution_count": 25,
   "metadata": {},
   "outputs": [],
   "source": [
    "gcs_path = 'gs://safu-hk/eth_features/wallets_*'\n",
    "etherscamdb_uri = 'https://etherscamdb.info/api/addresses/'\n",
    "myetherwallet_uri = 'https://raw.githubusercontent.com/MyEtherWallet/ethereum-lists/master/src/addresses/addresses-darklist.json'"
   ]
  },
  {
   "cell_type": "code",
   "execution_count": 63,
   "metadata": {},
   "outputs": [
    {
     "name": "stdout",
     "output_type": "stream",
     "text": [
      "2107\n"
     ]
    }
   ],
   "source": [
    "etherscamdb_data = json.loads(requests.get(etherscamdb_uri).text)\n",
    "myetherwallet_data = json.loads(requests.get(myetherwallet_uri).text)\n",
    "\n",
    "etherscamdb_addresses = [x.lower() for x in scams['result'].keys() if len(x)==42]\n",
    "myetherwallet_addresses = [x['address'].lower() for x in myetherwallet_data if x.get('address')]\n",
    "\n",
    "scam_addresses = list(set(etherscamdb_addresses).union(set(myetherwallet_addresses)))\n",
    "pd.Series(scam_addresses).to_csv('known_scams.csv')\n",
    "len(scam_addresses)"
   ]
  },
  {
   "cell_type": "code",
   "execution_count": 15,
   "metadata": {},
   "outputs": [
    {
     "name": "stderr",
     "output_type": "stream",
     "text": [
      "/Users/asvanevik/.local/share/virtualenvs/asvanevik-otMeAH4x/lib/python3.6/site-packages/dask/dataframe/io/csv.py:325: UserWarning: Warning gzip compression does not support breaking apart files\n",
      "Please ensure that each individual file can fit in memory and\n",
      "use the keyword ``blocksize=None to remove this message``\n",
      "Setting ``blocksize=None``\n",
      "  \"Setting ``blocksize=None``\" % compression)\n"
     ]
    }
   ],
   "source": [
    "tx_dd = dd.read_csv(gcs_path, compression='gzip', assume_missing=True)"
   ]
  },
  {
   "cell_type": "code",
   "execution_count": 5,
   "metadata": {},
   "outputs": [],
   "source": [
    "tx = tx_dd.compute().set_index('wallet').fillna(0)"
   ]
  },
  {
   "cell_type": "code",
   "execution_count": 55,
   "metadata": {},
   "outputs": [],
   "source": [
    "tx.index.name = 'wallet'"
   ]
  },
  {
   "cell_type": "code",
   "execution_count": 47,
   "metadata": {},
   "outputs": [
    {
     "data": {
      "text/plain": [
       "(2107, 0)"
      ]
     },
     "execution_count": 47,
     "metadata": {},
     "output_type": "execute_result"
    }
   ],
   "source": [
    "scam_address_dummy = pd.DataFrame(scam_addresses).set_index(0)\n",
    "scam_address_dummy.shape"
   ]
  },
  {
   "cell_type": "code",
   "execution_count": 54,
   "metadata": {},
   "outputs": [
    {
     "data": {
      "text/plain": [
       "(1598, 33)"
      ]
     },
     "execution_count": 54,
     "metadata": {},
     "output_type": "execute_result"
    }
   ],
   "source": [
    "scams_df = tx.join(scam_address_dummy, how='inner')\n",
    "scams_df.shape"
   ]
  },
  {
   "cell_type": "code",
   "execution_count": 49,
   "metadata": {},
   "outputs": [],
   "source": [
    "n_non_scams = scams_df.shape[0]\n",
    "sampled_non_scams = tx.sample(n_non_scams)"
   ]
  },
  {
   "cell_type": "code",
   "execution_count": 50,
   "metadata": {
    "scrolled": true
   },
   "outputs": [
    {
     "data": {
      "text/plain": [
       "set()"
      ]
     },
     "execution_count": 50,
     "metadata": {},
     "output_type": "execute_result"
    }
   ],
   "source": [
    "# this set should be empty!\n",
    "set(sampled_non_scams.index).intersection(set(scams_df.index))"
   ]
  },
  {
   "cell_type": "code",
   "execution_count": 51,
   "metadata": {},
   "outputs": [],
   "source": [
    "scams_df['is_scam'] = 1.0\n",
    "sampled_non_scams['is_scam'] = 0.0"
   ]
  },
  {
   "cell_type": "code",
   "execution_count": 53,
   "metadata": {},
   "outputs": [
    {
     "data": {
      "text/plain": [
       "((1598, 34), (1598, 34))"
      ]
     },
     "execution_count": 53,
     "metadata": {},
     "output_type": "execute_result"
    }
   ],
   "source": [
    "scams_df.shape, sampled_non_scams.shape"
   ]
  },
  {
   "cell_type": "code",
   "execution_count": 52,
   "metadata": {},
   "outputs": [
    {
     "data": {
      "text/plain": [
       "(3196, 34)"
      ]
     },
     "execution_count": 52,
     "metadata": {},
     "output_type": "execute_result"
    }
   ],
   "source": [
    "df = pd.concat([scams_df, sampled_non_scams])\n",
    "df.shape"
   ]
  },
  {
   "cell_type": "code",
   "execution_count": 44,
   "metadata": {},
   "outputs": [],
   "source": [
    "df.loc[df.index.dropna()].to_csv('labeled_dataset.csv')"
   ]
  },
  {
   "cell_type": "code",
   "execution_count": 13,
   "metadata": {},
   "outputs": [
    {
     "name": "stdout",
     "output_type": "stream",
     "text": [
      "CREATE TABLE \"eth_features\" (\n",
      "\"wallet\" TEXT,\n",
      "  \"num_tx_erc20\" REAL,\n",
      "  \"num_in_tx_erc20\" REAL,\n",
      "  \"num_distinct_tokens_in\" REAL,\n",
      "  \"num_distinct_wallets_in_erc20\" REAL,\n",
      "  \"num_distinct_blocks_in_erc20\" REAL,\n",
      "  \"num_out_tx_erc20\" REAL,\n",
      "  \"num_distinct_tokens_out\" REAL,\n",
      "  \"num_distinct_wallets_out_erc20\" REAL,\n",
      "  \"num_distinct_blocks_out_erc20\" REAL,\n",
      "  \"min_block_number_in_erc20\" REAL,\n",
      "  \"max_block_number_in_erc20\" REAL,\n",
      "  \"min_block_number_out_erc20\" REAL,\n",
      "  \"max_block_number_out_erc20\" REAL,\n",
      "  \"num_tx_eth\" REAL,\n",
      "  \"balance_eth\" REAL,\n",
      "  \"num_in_tx\" REAL,\n",
      "  \"num_distinct_wallets_in\" REAL,\n",
      "  \"vol_in\" REAL,\n",
      "  \"mean_in\" REAL,\n",
      "  \"min_in\" REAL,\n",
      "  \"max_in\" REAL,\n",
      "  \"num_distinct_blocks_in\" REAL,\n",
      "  \"num_out_tx\" REAL,\n",
      "  \"num_distinct_wallets_out\" REAL,\n",
      "  \"vol_out\" REAL,\n",
      "  \"mean_out\" REAL,\n",
      "  \"min_out\" REAL,\n",
      "  \"max_out\" REAL,\n",
      "  \"num_distinct_blocks_out\" REAL,\n",
      "  \"min_block_number_in_eth\" REAL,\n",
      "  \"max_block_number_in_eth\" REAL,\n",
      "  \"min_block_number_out_eth\" REAL,\n",
      "  \"max_block_number_out_eth\" REAL,\n",
      "  \"is_scam\" REAL\n",
      ")\n"
     ]
    }
   ],
   "source": [
    "print(pd.io.sql.get_schema(df.reset_index(), 'eth_features'))"
   ]
  },
  {
   "cell_type": "code",
   "execution_count": 19,
   "metadata": {},
   "outputs": [],
   "source": [
    "diff_vectors = df.groupby('is_scam').mean().T"
   ]
  },
  {
   "cell_type": "code",
   "execution_count": 22,
   "metadata": {},
   "outputs": [
    {
     "data": {
      "text/plain": [
       "num_in_tx                         22.305838\n",
       "num_distinct_blocks_in            17.941418\n",
       "num_tx_eth                        12.700806\n",
       "num_distinct_wallets_in           11.537239\n",
       "num_distinct_tokens_out            3.384306\n",
       "min_out                            3.262335\n",
       "num_distinct_wallets_out           2.384679\n",
       "num_in_tx_erc20                    2.144213\n",
       "num_tx_erc20                       2.139798\n",
       "num_distinct_blocks_out_erc20      2.136811\n",
       "num_out_tx_erc20                   2.126955\n",
       "num_distinct_blocks_in_erc20       2.124339\n",
       "num_distinct_blocks_out            1.946425\n",
       "num_out_tx                         1.933924\n",
       "num_distinct_wallets_in_erc20      1.866410\n",
       "num_distinct_tokens_in             1.698324\n",
       "min_block_number_in_eth            1.418978\n",
       "max_block_number_in_eth            1.406579\n",
       "min_block_number_out_eth           1.377159\n",
       "max_block_number_out_eth           1.360278\n",
       "max_block_number_in_erc20          0.828697\n",
       "min_block_number_in_erc20          0.809769\n",
       "num_distinct_wallets_out_erc20     0.780664\n",
       "vol_in                             0.470305\n",
       "balance_eth                        0.389106\n",
       "max_out                            0.322489\n",
       "max_block_number_out_erc20         0.319156\n",
       "vol_out                            0.307714\n",
       "min_block_number_out_erc20         0.306819\n",
       "mean_out                           0.283209\n",
       "max_in                             0.189474\n",
       "mean_in                            0.041895\n",
       "min_in                             0.016363\n",
       "dtype: float64"
      ]
     },
     "execution_count": 22,
     "metadata": {},
     "output_type": "execute_result"
    }
   ],
   "source": [
    "(diff_vectors[1] / diff_vectors[0]).sort_values(ascending=False)"
   ]
  },
  {
   "cell_type": "code",
   "execution_count": 56,
   "metadata": {},
   "outputs": [],
   "source": [
    "tx.to_csv('all_wallets.csv')"
   ]
  },
  {
   "cell_type": "code",
   "execution_count": 61,
   "metadata": {},
   "outputs": [
    {
     "data": {
      "text/html": [
       "<div>\n",
       "<style scoped>\n",
       "    .dataframe tbody tr th:only-of-type {\n",
       "        vertical-align: middle;\n",
       "    }\n",
       "\n",
       "    .dataframe tbody tr th {\n",
       "        vertical-align: top;\n",
       "    }\n",
       "\n",
       "    .dataframe thead th {\n",
       "        text-align: right;\n",
       "    }\n",
       "</style>\n",
       "<table border=\"1\" class=\"dataframe\">\n",
       "  <thead>\n",
       "    <tr style=\"text-align: right;\">\n",
       "      <th>is_scam</th>\n",
       "      <th>0.0</th>\n",
       "      <th>1.0</th>\n",
       "    </tr>\n",
       "  </thead>\n",
       "  <tbody>\n",
       "    <tr>\n",
       "      <th>num_tx_erc20</th>\n",
       "      <td>1.000000e+00</td>\n",
       "      <td>0.000000e+00</td>\n",
       "    </tr>\n",
       "    <tr>\n",
       "      <th>num_in_tx_erc20</th>\n",
       "      <td>1.000000e+00</td>\n",
       "      <td>0.000000e+00</td>\n",
       "    </tr>\n",
       "    <tr>\n",
       "      <th>num_distinct_tokens_in</th>\n",
       "      <td>1.000000e+00</td>\n",
       "      <td>0.000000e+00</td>\n",
       "    </tr>\n",
       "    <tr>\n",
       "      <th>num_distinct_wallets_in_erc20</th>\n",
       "      <td>1.000000e+00</td>\n",
       "      <td>0.000000e+00</td>\n",
       "    </tr>\n",
       "    <tr>\n",
       "      <th>num_distinct_blocks_in_erc20</th>\n",
       "      <td>1.000000e+00</td>\n",
       "      <td>0.000000e+00</td>\n",
       "    </tr>\n",
       "    <tr>\n",
       "      <th>num_out_tx_erc20</th>\n",
       "      <td>0.000000e+00</td>\n",
       "      <td>0.000000e+00</td>\n",
       "    </tr>\n",
       "    <tr>\n",
       "      <th>num_distinct_tokens_out</th>\n",
       "      <td>0.000000e+00</td>\n",
       "      <td>0.000000e+00</td>\n",
       "    </tr>\n",
       "    <tr>\n",
       "      <th>num_distinct_wallets_out_erc20</th>\n",
       "      <td>0.000000e+00</td>\n",
       "      <td>0.000000e+00</td>\n",
       "    </tr>\n",
       "    <tr>\n",
       "      <th>num_distinct_blocks_out_erc20</th>\n",
       "      <td>0.000000e+00</td>\n",
       "      <td>0.000000e+00</td>\n",
       "    </tr>\n",
       "    <tr>\n",
       "      <th>min_block_number_in_erc20</th>\n",
       "      <td>4.236436e+06</td>\n",
       "      <td>0.000000e+00</td>\n",
       "    </tr>\n",
       "    <tr>\n",
       "      <th>max_block_number_in_erc20</th>\n",
       "      <td>4.345417e+06</td>\n",
       "      <td>0.000000e+00</td>\n",
       "    </tr>\n",
       "    <tr>\n",
       "      <th>min_block_number_out_erc20</th>\n",
       "      <td>0.000000e+00</td>\n",
       "      <td>0.000000e+00</td>\n",
       "    </tr>\n",
       "    <tr>\n",
       "      <th>max_block_number_out_erc20</th>\n",
       "      <td>0.000000e+00</td>\n",
       "      <td>0.000000e+00</td>\n",
       "    </tr>\n",
       "    <tr>\n",
       "      <th>num_tx_eth</th>\n",
       "      <td>2.000000e+00</td>\n",
       "      <td>8.000000e+00</td>\n",
       "    </tr>\n",
       "    <tr>\n",
       "      <th>balance_eth</th>\n",
       "      <td>1.993700e-01</td>\n",
       "      <td>8.169671e+00</td>\n",
       "    </tr>\n",
       "    <tr>\n",
       "      <th>num_in_tx</th>\n",
       "      <td>1.000000e+00</td>\n",
       "      <td>6.000000e+00</td>\n",
       "    </tr>\n",
       "    <tr>\n",
       "      <th>num_distinct_wallets_in</th>\n",
       "      <td>1.000000e+00</td>\n",
       "      <td>5.000000e+00</td>\n",
       "    </tr>\n",
       "    <tr>\n",
       "      <th>vol_in</th>\n",
       "      <td>1.065774e-01</td>\n",
       "      <td>4.197983e+00</td>\n",
       "    </tr>\n",
       "    <tr>\n",
       "      <th>mean_in</th>\n",
       "      <td>8.027701e-02</td>\n",
       "      <td>7.546279e-01</td>\n",
       "    </tr>\n",
       "    <tr>\n",
       "      <th>min_in</th>\n",
       "      <td>2.400806e-02</td>\n",
       "      <td>3.086498e-02</td>\n",
       "    </tr>\n",
       "    <tr>\n",
       "      <th>max_in</th>\n",
       "      <td>9.825000e-02</td>\n",
       "      <td>1.990246e+00</td>\n",
       "    </tr>\n",
       "    <tr>\n",
       "      <th>num_distinct_blocks_in</th>\n",
       "      <td>1.000000e+00</td>\n",
       "      <td>6.000000e+00</td>\n",
       "    </tr>\n",
       "    <tr>\n",
       "      <th>num_out_tx</th>\n",
       "      <td>1.000000e+00</td>\n",
       "      <td>1.000000e+00</td>\n",
       "    </tr>\n",
       "    <tr>\n",
       "      <th>num_distinct_wallets_out</th>\n",
       "      <td>1.000000e+00</td>\n",
       "      <td>1.000000e+00</td>\n",
       "    </tr>\n",
       "    <tr>\n",
       "      <th>vol_out</th>\n",
       "      <td>4.214248e-02</td>\n",
       "      <td>2.859277e+00</td>\n",
       "    </tr>\n",
       "    <tr>\n",
       "      <th>mean_out</th>\n",
       "      <td>2.206430e-02</td>\n",
       "      <td>1.223092e+00</td>\n",
       "    </tr>\n",
       "    <tr>\n",
       "      <th>min_out</th>\n",
       "      <td>0.000000e+00</td>\n",
       "      <td>2.569969e-01</td>\n",
       "    </tr>\n",
       "    <tr>\n",
       "      <th>max_out</th>\n",
       "      <td>3.695821e-02</td>\n",
       "      <td>2.094677e+00</td>\n",
       "    </tr>\n",
       "    <tr>\n",
       "      <th>num_distinct_blocks_out</th>\n",
       "      <td>1.000000e+00</td>\n",
       "      <td>1.000000e+00</td>\n",
       "    </tr>\n",
       "    <tr>\n",
       "      <th>min_block_number_in_eth</th>\n",
       "      <td>4.807904e+06</td>\n",
       "      <td>5.545188e+06</td>\n",
       "    </tr>\n",
       "    <tr>\n",
       "      <th>max_block_number_in_eth</th>\n",
       "      <td>4.856756e+06</td>\n",
       "      <td>5.716470e+06</td>\n",
       "    </tr>\n",
       "    <tr>\n",
       "      <th>min_block_number_out_eth</th>\n",
       "      <td>4.712849e+06</td>\n",
       "      <td>5.442293e+06</td>\n",
       "    </tr>\n",
       "    <tr>\n",
       "      <th>max_block_number_out_eth</th>\n",
       "      <td>4.811598e+06</td>\n",
       "      <td>5.562618e+06</td>\n",
       "    </tr>\n",
       "  </tbody>\n",
       "</table>\n",
       "</div>"
      ],
      "text/plain": [
       "is_scam                                  0.0           1.0\n",
       "num_tx_erc20                    1.000000e+00  0.000000e+00\n",
       "num_in_tx_erc20                 1.000000e+00  0.000000e+00\n",
       "num_distinct_tokens_in          1.000000e+00  0.000000e+00\n",
       "num_distinct_wallets_in_erc20   1.000000e+00  0.000000e+00\n",
       "num_distinct_blocks_in_erc20    1.000000e+00  0.000000e+00\n",
       "num_out_tx_erc20                0.000000e+00  0.000000e+00\n",
       "num_distinct_tokens_out         0.000000e+00  0.000000e+00\n",
       "num_distinct_wallets_out_erc20  0.000000e+00  0.000000e+00\n",
       "num_distinct_blocks_out_erc20   0.000000e+00  0.000000e+00\n",
       "min_block_number_in_erc20       4.236436e+06  0.000000e+00\n",
       "max_block_number_in_erc20       4.345417e+06  0.000000e+00\n",
       "min_block_number_out_erc20      0.000000e+00  0.000000e+00\n",
       "max_block_number_out_erc20      0.000000e+00  0.000000e+00\n",
       "num_tx_eth                      2.000000e+00  8.000000e+00\n",
       "balance_eth                     1.993700e-01  8.169671e+00\n",
       "num_in_tx                       1.000000e+00  6.000000e+00\n",
       "num_distinct_wallets_in         1.000000e+00  5.000000e+00\n",
       "vol_in                          1.065774e-01  4.197983e+00\n",
       "mean_in                         8.027701e-02  7.546279e-01\n",
       "min_in                          2.400806e-02  3.086498e-02\n",
       "max_in                          9.825000e-02  1.990246e+00\n",
       "num_distinct_blocks_in          1.000000e+00  6.000000e+00\n",
       "num_out_tx                      1.000000e+00  1.000000e+00\n",
       "num_distinct_wallets_out        1.000000e+00  1.000000e+00\n",
       "vol_out                         4.214248e-02  2.859277e+00\n",
       "mean_out                        2.206430e-02  1.223092e+00\n",
       "min_out                         0.000000e+00  2.569969e-01\n",
       "max_out                         3.695821e-02  2.094677e+00\n",
       "num_distinct_blocks_out         1.000000e+00  1.000000e+00\n",
       "min_block_number_in_eth         4.807904e+06  5.545188e+06\n",
       "max_block_number_in_eth         4.856756e+06  5.716470e+06\n",
       "min_block_number_out_eth        4.712849e+06  5.442293e+06\n",
       "max_block_number_out_eth        4.811598e+06  5.562618e+06"
      ]
     },
     "execution_count": 61,
     "metadata": {},
     "output_type": "execute_result"
    }
   ],
   "source": [
    "df.groupby('is_scam').median().T"
   ]
  },
  {
   "cell_type": "code",
   "execution_count": null,
   "metadata": {},
   "outputs": [],
   "source": []
  }
 ],
 "metadata": {
  "kernelspec": {
   "display_name": "Python 3",
   "language": "python",
   "name": "python3"
  },
  "language_info": {
   "codemirror_mode": {
    "name": "ipython",
    "version": 3
   },
   "file_extension": ".py",
   "mimetype": "text/x-python",
   "name": "python",
   "nbconvert_exporter": "python",
   "pygments_lexer": "ipython3",
   "version": "3.6.4"
  }
 },
 "nbformat": 4,
 "nbformat_minor": 2
}
